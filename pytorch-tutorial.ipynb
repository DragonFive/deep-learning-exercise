{
 "metadata": {
  "name": "",
  "signature": "sha256:a275152860f37804b4a9ee792df6d75e60de62aa6b89613431b21b9a55422320"
 },
 "nbformat": 3,
 "nbformat_minor": 0,
 "worksheets": [
  {
   "cells": [
    {
     "cell_type": "markdown",
     "metadata": {},
     "source": [
      "# \u5b89\u88c5\n",
      "\u53ef\u4ee5\u9009\u4e8c\u8fdb\u5236\u5b89\u88c5\u65b9\u5f0f\uff0c\u4f46\u662f\u8981\u6ce8\u610fnumpy\u9700\u8981\u662f1.0\u4ee5\u540e\u7684\u624d\u53ef\u4ee5 http://pytorch.org/\n",
      "\n",
      "# tensor \u5f20\u91cf\n",
      "\u76f8\u5f53\u4e8epython \u7684narray\uff0c\u77e9\u9635\n",
      "\n",
      "[\u53c2\u8003\u8d44\u6599 totorial](https://github.com/pytorch/tutorials/blob/master/Deep%20Learning%20with%20PyTorch.ipynb)"
     ]
    },
    {
     "cell_type": "code",
     "collapsed": false,
     "input": [
      "import torch"
     ],
     "language": "python",
     "metadata": {},
     "outputs": [],
     "prompt_number": 1
    },
    {
     "cell_type": "code",
     "collapsed": false,
     "input": [
      "x=torch.Tensor(5,3); # \u521b\u5efa\u4e00\u4e2a5*3\u7684\u77e9\u9635\uff0c\u4e0d\u521d\u59cb\u5316\n",
      "y = torch.rand(5,3); # \u521b\u5efa\u4e00\u4e2a5*3\u7684\u968f\u673a\u6570\u77e9\u9635;\n",
      "x,y"
     ],
     "language": "python",
     "metadata": {},
     "outputs": [
      {
       "metadata": {},
       "output_type": "pyout",
       "prompt_number": 3,
       "text": [
        "(\n",
        " 1.00000e-30 *\n",
        "   0.0000  0.0000 -0.0000\n",
        "   0.0000 -0.0000  0.0000\n",
        "   0.0000  0.0000  0.0000\n",
        "   0.0000 -5.9863  0.0000\n",
        "  -0.0000  0.0000 -0.0000\n",
        " [torch.FloatTensor of size 5x3], \n",
        "  0.1289  0.3555  0.1480\n",
        "  0.5375  0.9877  0.4137\n",
        "  0.2960  0.3900  0.9730\n",
        "  0.7539  0.2064  0.9927\n",
        "  0.6843  0.6412  0.8596\n",
        " [torch.FloatTensor of size 5x3])"
       ]
      }
     ],
     "prompt_number": 3
    },
    {
     "cell_type": "code",
     "collapsed": false,
     "input": [
      "x.size(),y.size()"
     ],
     "language": "python",
     "metadata": {},
     "outputs": [
      {
       "metadata": {},
       "output_type": "pyout",
       "prompt_number": 4,
       "text": [
        "(torch.Size([5, 3]), torch.Size([5, 3]))"
       ]
      }
     ],
     "prompt_number": 4
    },
    {
     "cell_type": "markdown",
     "metadata": {},
     "source": [
      "\u4e0b\u9762\u662ftensor\u7684\u4e24\u79cd\u52a0\u6cd5\u8fd0\u7b97"
     ]
    },
    {
     "cell_type": "code",
     "collapsed": false,
     "input": [
      "result = torch.Tensor(5,3)\n",
      "result = x + y\n",
      "result"
     ],
     "language": "python",
     "metadata": {},
     "outputs": [
      {
       "metadata": {},
       "output_type": "pyout",
       "prompt_number": 6,
       "text": [
        "\n",
        " 0.1289  0.3555  0.1480\n",
        " 0.5375  0.9877  0.4137\n",
        " 0.2960  0.3900  0.9730\n",
        " 0.7539  0.2064  0.9927\n",
        " 0.6843  0.6412  0.8596\n",
        "[torch.FloatTensor of size 5x3]"
       ]
      }
     ],
     "prompt_number": 6
    },
    {
     "cell_type": "code",
     "collapsed": false,
     "input": [
      "torch.add(x,y,out=result)"
     ],
     "language": "python",
     "metadata": {},
     "outputs": [
      {
       "metadata": {},
       "output_type": "pyout",
       "prompt_number": 7,
       "text": [
        "\n",
        " 0.1289  0.3555  0.1480\n",
        " 0.5375  0.9877  0.4137\n",
        " 0.2960  0.3900  0.9730\n",
        " 0.7539  0.2064  0.9927\n",
        " 0.6843  0.6412  0.8596\n",
        "[torch.FloatTensor of size 5x3]"
       ]
      }
     ],
     "prompt_number": 7
    },
    {
     "cell_type": "markdown",
     "metadata": {},
     "source": [
      "# tensor\u4e0e numpy\u7684\u8f6c\u6362\n",
      "\n",
      "\u628atensor\u8f6c\u5316\u4e3anumpy\u76f4\u63a5\u7528tensor\u7684numpy\u6210\u5458\u51fd\u6570,\u6ce8\u610f\u4e24\u8005\u5176\u5b9e\u76f8\u5f53\u4e8e\u540c\u4e00\u5757\u5185\u5b58\u7684\u4e0d\u540c\u5f15\u7528\u3002"
     ]
    },
    {
     "cell_type": "code",
     "collapsed": false,
     "input": [
      "z = x.numpy()\n",
      "x.add_(1)\n",
      "print x\n",
      "print z\n"
     ],
     "language": "python",
     "metadata": {},
     "outputs": [
      {
       "output_type": "stream",
       "stream": "stdout",
       "text": [
        "\n",
        " 1  1  1\n",
        " 1  1  1\n",
        " 1  1  1\n",
        " 1  1  1\n",
        " 1  1  1\n",
        "[torch.FloatTensor of size 5x3]\n",
        "\n",
        "[[ 1.  1.  1.]\n",
        " [ 1.  1.  1.]\n",
        " [ 1.  1.  1.]\n",
        " [ 1.  1.  1.]\n",
        " [ 1.  1.  1.]]\n"
       ]
      }
     ],
     "prompt_number": 10
    },
    {
     "cell_type": "markdown",
     "metadata": {},
     "source": [
      "\u628anumpy\u8f6c\u5316\u4e3atensor\uff0c\u7528torch\u7684\u5168\u5c40\u51fd\u6570 torch.from_numpy()\uff0c\u6765\u8f6c\u5316"
     ]
    },
    {
     "cell_type": "code",
     "collapsed": false,
     "input": [
      "import numpy as np\n",
      "a =np.ones((5,3))\n",
      "b = torch.from_numpy(a)\n",
      "b.add_(1)\n",
      "print a\n",
      "print b"
     ],
     "language": "python",
     "metadata": {},
     "outputs": [
      {
       "output_type": "stream",
       "stream": "stdout",
       "text": [
        "[[ 2.  2.  2.]\n",
        " [ 2.  2.  2.]\n",
        " [ 2.  2.  2.]\n",
        " [ 2.  2.  2.]\n",
        " [ 2.  2.  2.]]\n",
        "\n",
        " 2  2  2\n",
        " 2  2  2\n",
        " 2  2  2\n",
        " 2  2  2\n",
        " 2  2  2\n",
        "[torch.DoubleTensor of size 5x3]\n",
        "\n"
       ]
      }
     ],
     "prompt_number": 15
    },
    {
     "cell_type": "code",
     "collapsed": false,
     "input": [],
     "language": "python",
     "metadata": {},
     "outputs": []
    }
   ],
   "metadata": {}
  }
 ]
}