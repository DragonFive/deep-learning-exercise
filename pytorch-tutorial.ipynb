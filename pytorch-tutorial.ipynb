{
 "metadata": {
  "name": "",
  "signature": "sha256:c2fc6ecbe7e49698b090b604abbb91cd499f0b575f53e47e269486006d21baef"
 },
 "nbformat": 3,
 "nbformat_minor": 0,
 "worksheets": [
  {
   "cells": [
    {
     "cell_type": "markdown",
     "metadata": {},
     "source": [
      "# \u5b89\u88c5\n",
      "\u53ef\u4ee5\u9009\u4e8c\u8fdb\u5236\u5b89\u88c5\u65b9\u5f0f\uff0c\u4f46\u662f\u8981\u6ce8\u610fnumpy\u9700\u8981\u662f1.0\u4ee5\u540e\u7684\u624d\u53ef\u4ee5 http://pytorch.org/\n",
      "\n",
      "\u5b89\u88c5\u4e4b\u540e\u8dd1\u4e86\u4e00\u4f1a\u513f\u53d1\u73b0cuda\u5e76\u6ca1\u6709\u5b89\u88c5\u4e8e\u662f\u5c31\u5b89\u88c5cuda,http://blog.csdn.net/hungryof/article/details/51557666\n",
      "\n",
      "# tensor \u5f20\u91cf\n",
      "\u76f8\u5f53\u4e8epython \u7684narray\uff0c\u77e9\u9635\n",
      "\n",
      "[\u53c2\u8003\u8d44\u6599 totorial](https://github.com/pytorch/tutorials/blob/master/Deep%20Learning%20with%20PyTorch.ipynb)"
     ]
    },
    {
     "cell_type": "code",
     "collapsed": false,
     "input": [
      "import torch"
     ],
     "language": "python",
     "metadata": {},
     "outputs": [],
     "prompt_number": 1
    },
    {
     "cell_type": "code",
     "collapsed": false,
     "input": [
      "x=torch.Tensor(5,3); # \u521b\u5efa\u4e00\u4e2a5*3\u7684\u77e9\u9635\uff0c\u4e0d\u521d\u59cb\u5316\n",
      "y = torch.rand(5,3); # \u521b\u5efa\u4e00\u4e2a5*3\u7684\u968f\u673a\u6570\u77e9\u9635;\n",
      "x,y"
     ],
     "language": "python",
     "metadata": {},
     "outputs": [
      {
       "metadata": {},
       "output_type": "pyout",
       "prompt_number": 3,
       "text": [
        "(\n",
        " 1.00000e-30 *\n",
        "   0.0000  0.0000 -0.0000\n",
        "   0.0000 -0.0000  0.0000\n",
        "   0.0000  0.0000  0.0000\n",
        "   0.0000 -5.9863  0.0000\n",
        "  -0.0000  0.0000 -0.0000\n",
        " [torch.FloatTensor of size 5x3], \n",
        "  0.1289  0.3555  0.1480\n",
        "  0.5375  0.9877  0.4137\n",
        "  0.2960  0.3900  0.9730\n",
        "  0.7539  0.2064  0.9927\n",
        "  0.6843  0.6412  0.8596\n",
        " [torch.FloatTensor of size 5x3])"
       ]
      }
     ],
     "prompt_number": 3
    },
    {
     "cell_type": "code",
     "collapsed": false,
     "input": [
      "x.size(),y.size()"
     ],
     "language": "python",
     "metadata": {},
     "outputs": [
      {
       "metadata": {},
       "output_type": "pyout",
       "prompt_number": 4,
       "text": [
        "(torch.Size([5, 3]), torch.Size([5, 3]))"
       ]
      }
     ],
     "prompt_number": 4
    },
    {
     "cell_type": "markdown",
     "metadata": {},
     "source": [
      "\u4e0b\u9762\u662ftensor\u7684\u4e24\u79cd\u52a0\u6cd5\u8fd0\u7b97"
     ]
    },
    {
     "cell_type": "code",
     "collapsed": false,
     "input": [
      "result = torch.Tensor(5,3)\n",
      "result = x + y\n",
      "result"
     ],
     "language": "python",
     "metadata": {},
     "outputs": [
      {
       "metadata": {},
       "output_type": "pyout",
       "prompt_number": 6,
       "text": [
        "\n",
        " 0.1289  0.3555  0.1480\n",
        " 0.5375  0.9877  0.4137\n",
        " 0.2960  0.3900  0.9730\n",
        " 0.7539  0.2064  0.9927\n",
        " 0.6843  0.6412  0.8596\n",
        "[torch.FloatTensor of size 5x3]"
       ]
      }
     ],
     "prompt_number": 6
    },
    {
     "cell_type": "code",
     "collapsed": false,
     "input": [
      "torch.add(x,y,out=result)"
     ],
     "language": "python",
     "metadata": {},
     "outputs": [
      {
       "metadata": {},
       "output_type": "pyout",
       "prompt_number": 7,
       "text": [
        "\n",
        " 0.1289  0.3555  0.1480\n",
        " 0.5375  0.9877  0.4137\n",
        " 0.2960  0.3900  0.9730\n",
        " 0.7539  0.2064  0.9927\n",
        " 0.6843  0.6412  0.8596\n",
        "[torch.FloatTensor of size 5x3]"
       ]
      }
     ],
     "prompt_number": 7
    },
    {
     "cell_type": "markdown",
     "metadata": {},
     "source": [
      "# tensor\u4e0e numpy\u7684\u8f6c\u6362\n",
      "\n",
      "\u628atensor\u8f6c\u5316\u4e3anumpy\u76f4\u63a5\u7528tensor\u7684numpy\u6210\u5458\u51fd\u6570,\u6ce8\u610f\u4e24\u8005\u5176\u5b9e\u76f8\u5f53\u4e8e\u540c\u4e00\u5757\u5185\u5b58\u7684\u4e0d\u540c\u5f15\u7528\u3002"
     ]
    },
    {
     "cell_type": "code",
     "collapsed": false,
     "input": [
      "z = x.numpy()\n",
      "x.add_(1)\n",
      "print x\n",
      "print z\n"
     ],
     "language": "python",
     "metadata": {},
     "outputs": [
      {
       "output_type": "stream",
       "stream": "stdout",
       "text": [
        "\n",
        " 1  1  1\n",
        " 1  1  1\n",
        " 1  1  1\n",
        " 1  1  1\n",
        " 1  1  1\n",
        "[torch.FloatTensor of size 5x3]\n",
        "\n",
        "[[ 1.  1.  1.]\n",
        " [ 1.  1.  1.]\n",
        " [ 1.  1.  1.]\n",
        " [ 1.  1.  1.]\n",
        " [ 1.  1.  1.]]\n"
       ]
      }
     ],
     "prompt_number": 10
    },
    {
     "cell_type": "markdown",
     "metadata": {},
     "source": [
      "\u628anumpy\u8f6c\u5316\u4e3atensor\uff0c\u7528torch\u7684\u5168\u5c40\u51fd\u6570 torch.from_numpy()\uff0c\u6765\u8f6c\u5316"
     ]
    },
    {
     "cell_type": "code",
     "collapsed": false,
     "input": [
      "import numpy as np\n",
      "a =np.ones((5,3))\n",
      "b = torch.from_numpy(a)\n",
      "b.add_(1)\n",
      "print a\n",
      "print b"
     ],
     "language": "python",
     "metadata": {},
     "outputs": [
      {
       "output_type": "stream",
       "stream": "stdout",
       "text": [
        "[[ 2.  2.  2.]\n",
        " [ 2.  2.  2.]\n",
        " [ 2.  2.  2.]\n",
        " [ 2.  2.  2.]\n",
        " [ 2.  2.  2.]]\n",
        "\n",
        " 2  2  2\n",
        " 2  2  2\n",
        " 2  2  2\n",
        " 2  2  2\n",
        " 2  2  2\n",
        "[torch.DoubleTensor of size 5x3]\n",
        "\n"
       ]
      }
     ],
     "prompt_number": 15
    },
    {
     "cell_type": "markdown",
     "metadata": {},
     "source": [
      "# cuda \u4e0a\u4f7f\u7528tensor\n",
      "\n",
      "\u901a\u8fc7\u4f7f\u7528.cuda\u51fd\u6570\u53ef\u4ee5\u628atensor\u7528\u5728GPU\u4e0a\u9762"
     ]
    },
    {
     "cell_type": "code",
     "collapsed": false,
     "input": [
      "torch.cuda.is_available()"
     ],
     "language": "python",
     "metadata": {},
     "outputs": [
      {
       "metadata": {},
       "output_type": "pyout",
       "prompt_number": 17,
       "text": [
        "False"
       ]
      }
     ],
     "prompt_number": 17
    },
    {
     "cell_type": "markdown",
     "metadata": {},
     "source": [
      "# \u795e\u7ecf\u7f51\u7edc\u5305 autograd\n",
      "\n",
      "\u8fd9\u4e2a\u5305\u4e3a\u63d0\u4f9b\u795e\u7ecf\u7f51\u7edc\u7684\u529f\u80fd\uff0c\u4e3atensor\u63d0\u4f9b\u81ea\u52a8\u5fae\u5206\u673a\uff0ctorch\u53ea\u9700\u8981\u5b9a\u4e49forward\u5c31\u53ef\u4ee5\uff0c\u7136\u540e\u4f7f\u7528autograd.backward\u5c31\u53ef\u4ee5\u53cd\u5411\u4f20\u64ad\u3002\n",
      "![](https://github.com/pytorch/tutorials/raw/48b9fd66a85b2b64f06fc1fcd226ec623c2de966/images/Variable.png)\n",
      "\n",
      "\u5176\u4e2ddata\u5b58\u7684\u662f\u539f\u59cb\u7684tensor,\u800cgrad\u5b58\u7684\u662f\u8ba1\u7b97\u51fa\u6765\u7684\u68af\u5ea6\n",
      "\n",
      "variable \u548c function \u6784\u6210\u4e86\u4e00\u4e2a\u65e0\u73af\u56fe\uff0c\u7528\u6765\u7f16\u7801\u64cd\u4f5c\u7684\u5386\u53f2\uff0c\u6bcf\u4e00\u4e2a\u53d8\u91cf\u90fd\u6709\u4e00\u4e2acreator\u5c5e\u6027\uff0c\u6307\u5411\u8fd9\u4e2a\u53d8\u91cf\u7684\u521b\u5efa\u51fd\u6570 \n",
      "\n",
      "\u53ef\u4ee5\u4f7f\u7528autograd.backward()\u51fd\u6570\u6765\u8ba1\u7b97\u4e00\u4e2a\u6570\u7684\u5bfc\u6570\uff0c\u4f46\u662f\u5982\u679c\u8fd9\u4e2a\u6570\u662f\u4e2a\u5411\u91cf\uff0c\u5219\u9700\u8981\u4f20\u5165\u4e00\u4e9b\u5176\u5b83\u7684\u53c2\u6570"
     ]
    },
    {
     "cell_type": "code",
     "collapsed": false,
     "input": [],
     "language": "python",
     "metadata": {},
     "outputs": []
    }
   ],
   "metadata": {}
  }
 ]
}