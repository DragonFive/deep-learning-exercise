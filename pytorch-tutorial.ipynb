{
 "metadata": {
  "name": "",
  "signature": "sha256:0a4d98a152b7dc11363d0a3a60d92f407e4166aca1711ec0aaf3048cd05e4c7a"
 },
 "nbformat": 3,
 "nbformat_minor": 0,
 "worksheets": [
  {
   "cells": [
    {
     "cell_type": "markdown",
     "metadata": {},
     "source": [
      "# \u5b89\u88c5\n",
      "\n",
      "## step1\uff1a \u5b89\u88c5torch\n",
      "\u53ef\u4ee5\u9009\u4e8c\u8fdb\u5236\u5b89\u88c5\u65b9\u5f0f\uff0c\u4f46\u662f\u8981\u6ce8\u610fnumpy\u9700\u8981\u662f1.0\u4ee5\u540e\u7684\u624d\u53ef\u4ee5 http://pytorch.org/\n",
      "\n",
      "\u6d4b\u8bd5\u5b89\u88c5\u6210\u529f\u5728python\u91cc\u4f7f\u7528\n",
      "```python\n",
      "import torch\n",
      "```\n",
      "\n",
      "\n",
      "\u5b89\u88c5\u4e4b\u540e\u8dd1\u4e86\u4e00\u4f1a\u513f\u53d1\u73b0cuda\u5e76\u6ca1\u6709\u5b89\u88c5\u4e8e\u662f\u5c31\u5b89\u88c5cuda,http://blog.csdn.net/hungryof/article/details/51557666\n",
      "\n",
      "\u4f46\u662f\u9700\u8981\u6ce8\u610f\u7684\u662f\uff0c\u8fd9\u4e2a\u6559\u7a0b\u662flua\u7684torch\u4e0ecuda\uff0c\u800cpytorch\u8981\u66f4\u52a0\u7b80\u5355\uff0c\u4e0d\u9700\u8981\u53ea\u9700\u8981\u5b89\u88c5cuda\u548ccudnn\uff0c\u518d\u914d\u4e00\u4e0b\u73af\u5883\u53d8\u91cf\u5c31\u53ef\u4ee5\u4e86,\u4e0d\u9700\u8981 \n",
      "\n",
      "## step2\uff1a\u5b89\u88c5Nvidia\u9a71\u52a8 \n",
      "- \u67e5\u8be2NVIDIA\u9a71\u52a8 \n",
      "\n",
      "\u9996\u5148\u53bb\u5b98\u7f51(http://www.nvidia.com/Download/index.aspx?lang=en-us) \u67e5\u770b\u9002\u5408\u81ea\u5df1\u663e\u5361\u7684\u9a71\u52a8\n",
      "\n",
      "- \u5b89\u88c5NVIDIA\u9a71\u52a8 \n",
      "\n",
      "\u5b89\u88c5\u4e4b\u524d\u5148\u5378\u8f7d\u5df2\u7ecf\u5b58\u5728\u7684\u9a71\u52a8\u7248\u672c\uff1a\n",
      "```\n",
      "sudo apt-get remove --purge nvidia*\n",
      "\n",
      "```\n",
      "\u82e5\u7535\u8111\u662f\u96c6\u6210\u663e\u5361\uff08NVIDIA\u72ec\u7acb\u663e\u5361\u5ffd\u7565\u6b64\u6b65\u9aa4\uff09\uff0c\u9700\u8981\u5728\u5b89\u88c5\u4e4b\u524d\u7981\u6b62\u4e00\u9879\uff1a\n",
      "```\n",
      "sudo service lightdm stop\n",
      "```\n",
      "\u6267\u884c\u4ee5\u4e0b\u6307\u4ee4\u5b89\u88c5\u9a71\u52a8\uff1a\n",
      "```\n",
      "sudo add-apt-repository ppa:xorg-edgers/ppa\n",
      "sudo apt-get update\n",
      "sudo apt-get install nvidia-367 #\u6ce8\u610f\u5728\u8fd9\u91cc\u6307\u5b9a\u81ea\u5df1\u7684\u9a71\u52a8\u7248\u672c\uff01\n",
      "```\n",
      "\u5b89\u88c5\u5b8c\u6210\u4e4b\u540e\u8f93\u5165\u4ee5\u4e0b\u6307\u4ee4\u8fdb\u884c\u9a8c\u8bc1\uff1a\n",
      "```\n",
      "sudo nvidia-smi\n",
      "```\n",
      "\u82e5\u5217\u51fa\u4e86GPU\u7684\u4fe1\u606f\u5217\u8868\u5219\u8868\u793a\u9a71\u52a8\u5b89\u88c5\u6210\u529f\u3002\u5982\u679c\u6ca1\u770b\u5230\uff0c\u91cd\u542f\u518d\u8bd5\u4e00\u4e0b,linux\u88c5\u9a71\u52a8\u9700\u8981\u91cd\u542f\u624d\u52a0\u8f7d\u5427\n",
      "\n",
      "## step3: \u5b89\u88c5cuda \n",
      "CUDA\u662fNVIDIA\u7684\u7f16\u7a0b\u8bed\u8a00\u5e73\u53f0\uff0c\u60f3\u4f7f\u7528GPU\u5c31\u5fc5\u987b\u8981\u4f7f\u7528cuda\u3002 \n",
      "- \u4e0b\u8f7dCUDA \n",
      "\n",
      "\u9996\u5148\u5728\u5b98\u7f51\u4e0a(https://developer.nvidia.com/cuda-downloads)\u4e0b\u8f7dCUDA\n",
      "\n",
      "- \u5b89\u88c5CUDA \n",
      "\u4e0b\u8f7d\u5b8c\u6210\u540e\u6267\u884c\u4ee5\u4e0b\u547d\u4ee4\uff1a \n",
      "```\n",
      "sudo sh cuda_8.0.44_linux.run --override \n",
      "```\n",
      "\n",
      "```\n",
      "\u542f\u52a8\u5b89\u88c5\u7a0b\u5e8f\uff0c\u4e00\u76f4\u6309q\uff0c\u8f93\u5165accept\u63a5\u53d7\u6761\u6b3e \n",
      "\u8f93\u5165n\u4e0d\u5b89\u88c5nvidia\u56fe\u50cf\u9a71\u52a8\uff0c\u4e4b\u524d\u5df2\u7ecf\u5b89\u88c5\u8fc7\u4e86 \n",
      "\u8f93\u5165y\u5b89\u88c5cuda 8.0\u5de5\u5177 \n",
      "\u56de\u8f66\u786e\u8ba4cuda\u9ed8\u8ba4\u5b89\u88c5\u8def\u5f84\uff1a/usr/local/cuda-8.0 \n",
      "\u8f93\u5165y\u7528sudo\u6743\u9650\u8fd0\u884c\u5b89\u88c5\uff0c\u8f93\u5165\u5bc6\u7801 \n",
      "\u8f93\u5165y\u6216\u8005n\u5b89\u88c5\u6216\u8005\u4e0d\u5b89\u88c5\u6307\u5411/usr/local/cuda\u7684\u7b26\u53f7\u94fe\u63a5 \n",
      "\u8f93\u5165y\u5b89\u88c5CUDA 8.0 Samples\uff0c\u4ee5\u4fbf\u540e\u9762\u6d4b\u8bd5\n",
      "```\n",
      "\n",
      "- \u73af\u5883\u53d8\u91cf\u914d\u7f6e \n",
      "\u6253\u5f00~/.bashrc\u6587\u4ef6\uff1a \n",
      "```\n",
      "sudo vi ~/.bashrc \n",
      "```\n",
      "\u5c06\u4ee5\u4e0b\u5185\u5bb9\u5199\u5165\u5230~/.bashrc\u5c3e\u90e8\uff1a\n",
      "```\n",
      "export PATH=/usr/local/cuda-8.0/bin${PATH:+:${PATH}}\n",
      "    export LD_LIBRARY_PATH=/usr/local/cuda-8.0/lib64${LD_LIBRARY_PATH:+:${LD_LIBRARY_PATH}}\n",
      "```\n",
      "\n",
      "- \u6d4b\u8bd5CUDA\u7684samples \n",
      "```\n",
      "cd /usr/local/cuda-8.0/samples/1_Utilities/deviceQuery\n",
      "sudo make\n",
      "sudo ./deviceQuery \n",
      "```\n",
      "\u5982\u679c\u663e\u793a\u4e00\u4e9b\u5173\u4e8eGPU\u7684\u4fe1\u606f\uff0c\u5219\u8bf4\u660e\u5b89\u88c5\u6210\u529f\u3002\n",
      "\n",
      "\n",
      "## step4: \u5b89\u88c5cudnn \n",
      "\n",
      "\u5c06\u4e0b\u8f7d\u4e0b\u6765\u7684cudnn-8.0-linux-x64-v5.1.tgz \u89e3\u538b\u4e4b\u540e\uff0c\u89e3\u538b\u540e\u7684cuda\u6587\u4ef6\u5939\u5148\u6253\u5f00\u91cc\u9762\u7684include\u6587\u4ef6\u5939\uff0c\u5728\u7ec8\u7aef\u8f93\u5165\uff1a \n",
      "\n",
      "```\n",
      "sudo cp cudnn.h /usr/local/cuda/include/ \n",
      "cd ~/cuda/lib64 \n",
      "sudo cp lib* /usr/local/cuda/lib64/\n",
      "```\n",
      "\u7ee7\u7eed\u66f4\u65b0\u6587\u4ef6\u94fe\u63a5 \n",
      "\n",
      "```\n",
      "cd /usr/local/cuda/lib64/ \n",
      "sudo rm -rf libcudnn.so libcudnn.so.5 \n",
      "sudo ln -s libcudnn.so.5.1.10 libcudnn.so.5 \n",
      "sudo ln -s libcudnn.so.5 libcudnn.so \n",
      "```\n",
      "\n",
      "\u7136\u540e\u8bbe\u7f6e\u73af\u5883\u53d8\u91cf \n",
      "```\n",
      "sudo gedit /etc/profile \n",
      "```\n",
      "\n",
      "\u5728\u672b\u5c3e\u52a0\u5165 \n",
      "\n",
      "```\n",
      "PATH=/usr/local/cuda/bin:$PATH \n",
      "export PATH \n",
      "```\n",
      "\n",
      "\u4fdd\u5b58\u4e4b\u540e\u521b\u5efa\u94fe\u63a5\u6587\u4ef6 \n",
      "```\n",
      "sudo gedit /etc/ld.so.conf.d/cuda.conf \n",
      "```\n",
      "\u52a0\u5165\n",
      "```\n",
      "/usr/local/cuda/lib64 \n",
      "```\n",
      "\u7ec8\u7aef\u4e0b\u63a5\u7740\u8f93\u5165 \n",
      "```\n",
      "sudo ldconfig \n",
      "```\n",
      "\u4f7f\u94fe\u63a5\u751f\u6548\n",
      "\n",
      "\u6d4b\u8bd5\u5b89\u88c5\u6210\u529f,\u5728python\u4e2d\u4f7f\u7528\n",
      "\n",
      "```python\n",
      "import torch\n",
      "torch.cuda.is_available()\n",
      "```\n",
      "\n",
      "# tensor \u5f20\u91cf\n",
      "\u76f8\u5f53\u4e8epython \u7684narray\uff0c\u77e9\u9635\n",
      "\n",
      "[\u53c2\u8003\u8d44\u6599 totorial](https://github.com/pytorch/tutorials/blob/master/Deep%20Learning%20with%20PyTorch.ipynb)"
     ]
    },
    {
     "cell_type": "code",
     "collapsed": false,
     "input": [
      "import torch"
     ],
     "language": "python",
     "metadata": {},
     "outputs": [],
     "prompt_number": 3
    },
    {
     "cell_type": "code",
     "collapsed": false,
     "input": [
      "x=torch.Tensor(5,3); # \u521b\u5efa\u4e00\u4e2a5*3\u7684\u77e9\u9635\uff0c\u4e0d\u521d\u59cb\u5316\n",
      "y = torch.rand(5,3); # \u521b\u5efa\u4e00\u4e2a5*3\u7684\u968f\u673a\u6570\u77e9\u9635;\n",
      "x,y"
     ],
     "language": "python",
     "metadata": {},
     "outputs": [
      {
       "metadata": {},
       "output_type": "pyout",
       "prompt_number": 3,
       "text": [
        "(\n",
        " 1.00000e-30 *\n",
        "   0.0000  0.0000 -0.0000\n",
        "   0.0000 -0.0000  0.0000\n",
        "   0.0000  0.0000  0.0000\n",
        "   0.0000 -5.9863  0.0000\n",
        "  -0.0000  0.0000 -0.0000\n",
        " [torch.FloatTensor of size 5x3], \n",
        "  0.1289  0.3555  0.1480\n",
        "  0.5375  0.9877  0.4137\n",
        "  0.2960  0.3900  0.9730\n",
        "  0.7539  0.2064  0.9927\n",
        "  0.6843  0.6412  0.8596\n",
        " [torch.FloatTensor of size 5x3])"
       ]
      }
     ],
     "prompt_number": 3
    },
    {
     "cell_type": "code",
     "collapsed": false,
     "input": [
      "x.size(),y.size()"
     ],
     "language": "python",
     "metadata": {},
     "outputs": [
      {
       "metadata": {},
       "output_type": "pyout",
       "prompt_number": 4,
       "text": [
        "(torch.Size([5, 3]), torch.Size([5, 3]))"
       ]
      }
     ],
     "prompt_number": 4
    },
    {
     "cell_type": "markdown",
     "metadata": {},
     "source": [
      "\u4e0b\u9762\u662ftensor\u7684\u4e24\u79cd\u52a0\u6cd5\u8fd0\u7b97"
     ]
    },
    {
     "cell_type": "code",
     "collapsed": false,
     "input": [
      "result = torch.Tensor(5,3)\n",
      "result = x + y\n",
      "result"
     ],
     "language": "python",
     "metadata": {},
     "outputs": [
      {
       "metadata": {},
       "output_type": "pyout",
       "prompt_number": 6,
       "text": [
        "\n",
        " 0.1289  0.3555  0.1480\n",
        " 0.5375  0.9877  0.4137\n",
        " 0.2960  0.3900  0.9730\n",
        " 0.7539  0.2064  0.9927\n",
        " 0.6843  0.6412  0.8596\n",
        "[torch.FloatTensor of size 5x3]"
       ]
      }
     ],
     "prompt_number": 6
    },
    {
     "cell_type": "code",
     "collapsed": false,
     "input": [
      "torch.add(x,y,out=result)"
     ],
     "language": "python",
     "metadata": {},
     "outputs": [
      {
       "metadata": {},
       "output_type": "pyout",
       "prompt_number": 7,
       "text": [
        "\n",
        " 0.1289  0.3555  0.1480\n",
        " 0.5375  0.9877  0.4137\n",
        " 0.2960  0.3900  0.9730\n",
        " 0.7539  0.2064  0.9927\n",
        " 0.6843  0.6412  0.8596\n",
        "[torch.FloatTensor of size 5x3]"
       ]
      }
     ],
     "prompt_number": 7
    },
    {
     "cell_type": "markdown",
     "metadata": {},
     "source": [
      "# tensor\u4e0e numpy\u7684\u8f6c\u6362\n",
      "\n",
      "\u628atensor\u8f6c\u5316\u4e3anumpy\u76f4\u63a5\u7528tensor\u7684numpy\u6210\u5458\u51fd\u6570,\u6ce8\u610f\u4e24\u8005\u5176\u5b9e\u76f8\u5f53\u4e8e\u540c\u4e00\u5757\u5185\u5b58\u7684\u4e0d\u540c\u5f15\u7528\u3002"
     ]
    },
    {
     "cell_type": "code",
     "collapsed": false,
     "input": [
      "z = x.numpy()\n",
      "x.add_(1)\n",
      "print x\n",
      "print z\n"
     ],
     "language": "python",
     "metadata": {},
     "outputs": [
      {
       "output_type": "stream",
       "stream": "stdout",
       "text": [
        "\n",
        " 1  1  1\n",
        " 1  1  1\n",
        " 1  1  1\n",
        " 1  1  1\n",
        " 1  1  1\n",
        "[torch.FloatTensor of size 5x3]\n",
        "\n",
        "[[ 1.  1.  1.]\n",
        " [ 1.  1.  1.]\n",
        " [ 1.  1.  1.]\n",
        " [ 1.  1.  1.]\n",
        " [ 1.  1.  1.]]\n"
       ]
      }
     ],
     "prompt_number": 10
    },
    {
     "cell_type": "markdown",
     "metadata": {},
     "source": [
      "\u628anumpy\u8f6c\u5316\u4e3atensor\uff0c\u7528torch\u7684\u5168\u5c40\u51fd\u6570 torch.from_numpy()\uff0c\u6765\u8f6c\u5316"
     ]
    },
    {
     "cell_type": "code",
     "collapsed": false,
     "input": [
      "import numpy as np\n",
      "a =np.ones((5,3))\n",
      "b = torch.from_numpy(a)\n",
      "b.add_(1)\n",
      "print a\n",
      "print b"
     ],
     "language": "python",
     "metadata": {},
     "outputs": [
      {
       "output_type": "stream",
       "stream": "stdout",
       "text": [
        "[[ 2.  2.  2.]\n",
        " [ 2.  2.  2.]\n",
        " [ 2.  2.  2.]\n",
        " [ 2.  2.  2.]\n",
        " [ 2.  2.  2.]]\n",
        "\n",
        " 2  2  2\n",
        " 2  2  2\n",
        " 2  2  2\n",
        " 2  2  2\n",
        " 2  2  2\n",
        "[torch.DoubleTensor of size 5x3]\n",
        "\n"
       ]
      }
     ],
     "prompt_number": 15
    },
    {
     "cell_type": "markdown",
     "metadata": {},
     "source": [
      "# cuda \u4e0a\u4f7f\u7528tensor\n",
      "\n",
      "\u901a\u8fc7\u4f7f\u7528.cuda\u51fd\u6570\u53ef\u4ee5\u628atensor\u7528\u5728GPU\u4e0a\u9762"
     ]
    },
    {
     "cell_type": "code",
     "collapsed": false,
     "input": [
      "import torch\n",
      "torch.cuda.is_available()"
     ],
     "language": "python",
     "metadata": {},
     "outputs": [
      {
       "metadata": {},
       "output_type": "pyout",
       "prompt_number": 2,
       "text": [
        "True"
       ]
      }
     ],
     "prompt_number": 2
    },
    {
     "cell_type": "markdown",
     "metadata": {},
     "source": [
      "# \u795e\u7ecf\u7f51\u7edc\u5305 autograd\n",
      "\n",
      "\u8fd9\u4e2a\u5305\u4e3a\u63d0\u4f9b\u795e\u7ecf\u7f51\u7edc\u7684\u529f\u80fd\uff0c\u4e3atensor\u63d0\u4f9b\u81ea\u52a8\u5fae\u5206\u673a\uff0ctorch\u53ea\u9700\u8981\u5b9a\u4e49forward\u5c31\u53ef\u4ee5\uff0c\u7136\u540e\u4f7f\u7528autograd.backward\u5c31\u53ef\u4ee5\u53cd\u5411\u4f20\u64ad\u3002\n",
      "![](https://github.com/pytorch/tutorials/raw/48b9fd66a85b2b64f06fc1fcd226ec623c2de966/images/Variable.png)\n",
      "\n",
      "\u5176\u4e2ddata\u5b58\u7684\u662f\u539f\u59cb\u7684tensor,\u800cgrad\u5b58\u7684\u662f\u8ba1\u7b97\u51fa\u6765\u7684\u68af\u5ea6\n",
      "\n",
      "variable \u548c function \u6784\u6210\u4e86\u4e00\u4e2a\u65e0\u73af\u56fe\uff0c\u7528\u6765\u7f16\u7801\u64cd\u4f5c\u7684\u5386\u53f2\uff0c\u6bcf\u4e00\u4e2a\u53d8\u91cf\u90fd\u6709\u4e00\u4e2acreator\u5c5e\u6027\uff0c\u6307\u5411\u8fd9\u4e2a\u53d8\u91cf\u7684\u521b\u5efa\u51fd\u6570 \n",
      "\n",
      "\u53ef\u4ee5\u4f7f\u7528autograd.backward()\u51fd\u6570\u6765\u8ba1\u7b97\u4e00\u4e2a\u6570\u7684\u5bfc\u6570\uff0c\u4f46\u662f\u5982\u679c\u8fd9\u4e2a\u6570\u662f\u4e2a\u5411\u91cf\uff0c\u5219\u9700\u8981\u4f20\u5165\u4e00\u4e9b\u5176\u5b83\u7684\u53c2\u6570\n",
      "\n",
      "## backward\u6c42\u5bfc"
     ]
    },
    {
     "cell_type": "code",
     "collapsed": false,
     "input": [
      "import torch\n",
      "from torch.autograd import Variable"
     ],
     "language": "python",
     "metadata": {},
     "outputs": [],
     "prompt_number": 3
    },
    {
     "cell_type": "code",
     "collapsed": false,
     "input": [
      "x = Variable(torch.ones(2,2),requires_grad = True)\n",
      "x"
     ],
     "language": "python",
     "metadata": {},
     "outputs": [
      {
       "metadata": {},
       "output_type": "pyout",
       "prompt_number": 30,
       "text": [
        "Variable containing:\n",
        " 1  1\n",
        " 1  1\n",
        "[torch.FloatTensor of size 2x2]"
       ]
      }
     ],
     "prompt_number": 30
    },
    {
     "cell_type": "code",
     "collapsed": false,
     "input": [
      "y = x + 2\n",
      "print y\n",
      "z = y*y*3\n",
      "print z\n",
      "out = z.mean()\n",
      "print out\n",
      "print out.backward()\n",
      "print x\n",
      "print x.grad"
     ],
     "language": "python",
     "metadata": {},
     "outputs": [
      {
       "output_type": "stream",
       "stream": "stdout",
       "text": [
        "Variable containing:\n",
        " 3  3\n",
        " 3  3\n",
        "[torch.FloatTensor of size 2x2]\n",
        "\n",
        "Variable containing:\n",
        " 27  27\n",
        " 27  27\n",
        "[torch.FloatTensor of size 2x2]\n",
        "\n",
        "Variable containing:\n",
        " 27\n",
        "[torch.FloatTensor of size 1]\n",
        "\n",
        "None\n",
        "Variable containing:\n",
        " 1  1\n",
        " 1  1\n",
        "[torch.FloatTensor of size 2x2]\n",
        "\n",
        "Variable containing:\n",
        " 4.5000  4.5000\n",
        " 4.5000  4.5000\n",
        "[torch.FloatTensor of size 2x2]\n",
        "\n"
       ]
      }
     ],
     "prompt_number": 31
    },
    {
     "cell_type": "markdown",
     "metadata": {},
     "source": [
      "\n",
      "You should have got a matrix of 4.5. Let's call the out Variable \"`$ o $\".\n",
      "\n",
      "We have that $o = \\frac{1}{4}\\sum_i {z_i} $\n",
      ", $ z_i = 3(x_i+2)^2 $\n",
      "and $z_i\\bigr\\rvert_{x_i=1} = 27$. Therefore, $\\frac{\\partial o}{\\partial x_i} = \\frac{3}{2}(x_i+2)$, hence $\\frac{\\partial o}{\\partial x_i}\\bigr\\rvert_{x_i=1} = \\frac{9}{2} = 4.5$."
     ]
    },
    {
     "cell_type": "code",
     "collapsed": false,
     "input": [
      "x = torch.randn(3)\n",
      "x = Variable(x, requires_grad = True) # \u53ef\u4ee5\u5f53\u4f5c\u6c42\u5bfc\u81ea\u53d8\u91cf\n",
      "print x\n",
      "y = x * 2\n",
      "while y.data.norm() < 1000:\n",
      "    y = y * 2\n",
      "print y\n",
      "\n",
      "gradients = torch.FloatTensor([0.1, 1.0, 0.0001])\n",
      "y.backward(gradients)\n",
      "\n",
      "x.grad"
     ],
     "language": "python",
     "metadata": {},
     "outputs": [
      {
       "output_type": "stream",
       "stream": "stdout",
       "text": [
        "Variable containing:\n",
        "-0.4563\n",
        " 0.7356\n",
        " 0.1878\n",
        "[torch.FloatTensor of size 3]\n",
        "\n",
        "Variable containing:\n",
        " -934.5499\n",
        " 1506.4476\n",
        "  384.6008\n",
        "[torch.FloatTensor of size 3]\n",
        "\n"
       ]
      },
      {
       "metadata": {},
       "output_type": "pyout",
       "prompt_number": 33,
       "text": [
        "Variable containing:\n",
        "  204.8000\n",
        " 2048.0000\n",
        "    0.2048\n",
        "[torch.FloatTensor of size 3]"
       ]
      }
     ],
     "prompt_number": 33
    },
    {
     "cell_type": "markdown",
     "metadata": {},
     "source": [
      "## torch\u7684nn\u5305\u6765\u521b\u5efa\u795e\u7ecf\u7f51\u7edc\n",
      "\n",
      "nn\u5305\u9700\u8981autograd\u5305\u6765\u5b9a\u4e49\u6a21\u578b\uff0c\u8ba1\u7b97\u5dee\u5206\uff0cnn\u5305\u91cc\u6709\u5c42\u548cforward\u65b9\u6cd5\u6765\u8fd4\u56de\u7ed3\u679c\n",
      "\n",
      "fead-forward network\u524d\u9988\u7f51\u7edc\uff0c\n",
      "![](https://github.com/pytorch/tutorials/raw/48b9fd66a85b2b64f06fc1fcd226ec623c2de966/images/mnist.png)\n",
      "\u795e\u7ecf\u7f51\u7edc\u7684\u5178\u578b\u8bad\u7ec3\u8fc7\u7a0b\u5982\u4e0b\uff1a\n",
      "1. \u5b9a\u4e49\u5177\u6709\u4e00\u4e9b\u53ef\u5b66\u4e60\u53c2\u6570\uff08\u6216\u6743\u91cd\uff09\u7684\u795e\u7ecf\u7f51\u7edc\uff0c\n",
      "2. \u8fed\u4ee3\u4e00\u4e2a\u8f93\u5165\u6570\u636e\u96c6\uff1a\n",
      "\n",
      "\n",
      "- \u83b7\u53d6\u8f93\u5165\n",
      "- \u8ba1\u7b97\u635f\u5931\uff08\u8f93\u51fa\u7684\u6b63\u786e\u7a0b\u5ea6\uff09\n",
      "- \u5c06\u68af\u5ea6\u4f20\u64ad\u56de\u7f51\u7edc\u7684\u53c2\u6570\n",
      "- \u66f4\u65b0\u7f51\u7edc\u7684\u6743\u91cd\n",
      "- \u901a\u5e38\u4f7f\u7528\u7b80\u5355\u7684\u66f4\u65b0\u89c4\u5219\uff1aweight = weight - learning_rate * gradient\n"
     ]
    },
    {
     "cell_type": "markdown",
     "metadata": {},
     "source": [
      "## linear layer\n",
      "\n",
      "NN\u91cc\u9762\u7684linear\u7c7b\u4f1a\u521b\u5efa\u4e00\u4e2a\u5bf9\u8f93\u5165\u8fdb\u884c\u7ebf\u6027\u53d8\u6362\u7684\u7f51\u7edc\u5c42\uff0cclass torch.nn.Linear(in_features, out_features, bias=True)\n",
      "\n",
      "1. in_features \u6307\u7684\u662f\u6bcf\u4e2a\u8f93\u5165\u7684size\n",
      "2. out_features \u503c\u5f97\u662f\u6bcf\u8f93\u51fa\u7684size\n",
      "\n",
      "\u4e0b\u9762\u4e3e\u4e2a\u6817\u5b50"
     ]
    },
    {
     "cell_type": "code",
     "collapsed": false,
     "input": [
      "import torch.nn as nn\n",
      "from torch import autograd\n",
      "from torch.autograd import Variable\n",
      "m = nn.Linear(20,30)\n",
      "inputv = Variable(torch.randn(128,20))\n",
      "print inputv.size()\n",
      "outputv = m(inputv)\n",
      "print outputv.size()"
     ],
     "language": "python",
     "metadata": {},
     "outputs": [
      {
       "output_type": "stream",
       "stream": "stdout",
       "text": [
        "torch.Size([128, 20])\n",
        "torch.Size([128, 30])\n"
       ]
      }
     ],
     "prompt_number": 37
    },
    {
     "cell_type": "markdown",
     "metadata": {},
     "source": [
      "\u5728\u8fd9\u91ccinputv\u6709128\u884c\uff0c20\u5217\uff0c\u8868\u793a\u6bcf\u4e00\u884c\u90fd\u662f\u4e00\u4e2a\u6837\u672c\u554a\u3002\u6bcf\u4e2a\u6837\u672c\u7684size\u5c31\u662f20,\u55ef\u6ca1\u6bdb\u75c5\u3002\u6709\u70b9\u7591\u95ee\uff0c\u8fd9\u662f\u5168\u8fde\u63a5\u5c42\u5417\n",
      "\n",
      "## Conv2d \u5377\u79ef\u5c42\n",
      "\n",
      "```\n",
      "class torch.nn.Conv2d(in_channels, out_channels, kernel_size, stride=1, padding=0, dilation=1, groups=1, bias=True)\n",
      "```\n",
      "\n",
      "- in_channels \u4e0a\u4e00\u5c42\u7684\u8f93\u51fa\u4e2a\u6570\n",
      "- out_channels \u8fd9\u4e00\u5c42\u7684\u8f93\u51fa\u4e2a\u6570\n",
      "- kernel_size \u5377\u79ef\u6838\u7684\u5927\u5c0f\n",
      "\n",
      "\u770b\u89c1\u6ca1\u6709\u5475\u5475\uff0c\u5377\u79ef\u540e\u56fe\u50cf\u7684\u5927\u5c0f\u53d8\u4e86\u3002\n",
      "```\n",
      "width = width - kernel_width + 1\n",
      "hight = hight - kernel_hight + 1\n",
      "```"
     ]
    },
    {
     "cell_type": "code",
     "collapsed": false,
     "input": [
      "m = nn.Conv2d(16,33,(3,5))\n",
      "inputv = autograd.Variable(torch.randn(20,16,50,100))\n",
      "outputv = m(inputv)\n",
      "print inputv.size()\n",
      "print outputv.size()"
     ],
     "language": "python",
     "metadata": {},
     "outputs": [
      {
       "output_type": "stream",
       "stream": "stdout",
       "text": [
        "torch.Size([20, 16, 50, 100])\n",
        "torch.Size([20, 33, 48, 96])\n"
       ]
      }
     ],
     "prompt_number": 38
    },
    {
     "cell_type": "markdown",
     "metadata": {},
     "source": [
      "\u4e0b\u9762\u641e\u4e2a\u7f51\u7edc\u8bd5\u8bd5"
     ]
    },
    {
     "cell_type": "code",
     "collapsed": false,
     "input": [
      "import torch.nn as nn\n",
      "import torch.nn.functional as F # F\u63d0\u4f9b\u4e86\u8bb8\u591a\u597d\u7528\u7684\u6df1\u5ea6\u5b66\u4e60\u7684\u5de5\u5177\n",
      "\n",
      "class Net(nn.Module):\n",
      "    def __init__(self):\n",
      "        super(Net, self).__init__()\n",
      "        self.conv1 = nn.Conv2d(1, 6, 5)\n",
      "        self.conv2 = nn.Conv2d(6,16,5)\n",
      "        self.fc1 = nn.Linear(16*5*5,120) # \u53ef\u662f\u8fd9\u4e9b\u6570\u503c\u90fd\u662f\u600e\u4e48\u8bbe\u7f6e\u7684\u5462;5*5\u662f\u56e0\u4e3a\u6700\u540e\u90fd\u7f16\u7a0b\u4e86\u4e00\u4e2a\u884c\u5411\u91cf\n",
      "        self.fc2 = nn.Linear(120,84)\n",
      "        self.fc3 = nn.Linear(84,10)\n",
      "        \n",
      "    def forward(self, x):\n",
      "        # \u4e0b\u9762\u4ee3\u7801\u7684\u610f\u601d\u662f\u6267\u884c\u5377\u79ef\u4e4b\u540e,relu\u6fc0\u6d3b\u4e00\u4e0b\u7136\u540e\u8fdb\u884c\u6c60\u5316\u3002\n",
      "        x = F.max_pool2d(F.relu(self.conv1(x)), (2,2))\n",
      "        x = F.max_pool2d(F.relu(self.conv2(x)), 2)\n",
      "        \n",
      "        # \u4e0b\u9762\u628a\u56fe\u7247\u8f6c\u5316\u4e3a\u884c\u5411\u91cf\uff1f\n",
      "        x = x.view(-1, self.num_flat_features(x))\n",
      "        \n",
      "        # \u4e0b\u9762\u662f\u5168\u8fde\u63a5\u5c42\n",
      "        x = F.relu(self.fc1(x))\n",
      "        x = F.relu(self.fc2(x))\n",
      "        x = self.fc3(x)\n",
      "        return x\n",
      "    \n",
      "    def num_flat_features(self, x):\n",
      "        size = x.size()[1:] # \u9009\u53d6\u9664\u4e86\u6837\u672c\u4e2a\u6570\u4e4b\u5916\u7684\u5176\u5b83\u5927\u5c0f\n",
      "        num_features = 1\n",
      "        for s in size:\n",
      "            num_features *= s\n",
      "        return num_features\n",
      "\n",
      "net = Net()\n",
      "net"
     ],
     "language": "python",
     "metadata": {},
     "outputs": [
      {
       "metadata": {},
       "output_type": "pyout",
       "prompt_number": 80,
       "text": [
        "Net (\n",
        "  (conv1): Conv2d(1, 6, kernel_size=(5, 5), stride=(1, 1))\n",
        "  (conv2): Conv2d(6, 16, kernel_size=(5, 5), stride=(1, 1))\n",
        "  (fc1): Linear (400 -> 120)\n",
        "  (fc2): Linear (120 -> 84)\n",
        "  (fc3): Linear (84 -> 10)\n",
        ")"
       ]
      }
     ],
     "prompt_number": 80
    },
    {
     "cell_type": "markdown",
     "metadata": {},
     "source": [
      "\u8fd9\u91cc\u5b9a\u4e49\u4e86\u4e00\u4e2a\u524d\u9988\u795e\u7ecf\u7f51\u7edc,\u901a\u8fc7\u4f7f\u7528autograd\u53ef\u4ee5\u81ea\u52a8\u751f\u6210\u53cd\u9988\u51fd\u6570\uff0c\u80fd\u591f\u81ea\u5b66\u4e60\u7684\u53c2\u6570\u5b58\u5728net.parameters()\u91cc\u9762"
     ]
    },
    {
     "cell_type": "code",
     "collapsed": false,
     "input": [
      "params = list(net.parameters())\n",
      "print len(params)\n",
      "print params[0].size()  # \u7b2c\u4e00\u4e2a\u5377\u79ef\u5c42conv1\u7684\u6743\u91cd\u53c2\u6570\n",
      "print params[1].size()  # \u7b2c\u4e00\u4e2a\u5377\u79ef\u5c42conv1\u7684\u504f\u79fb\u53c2\u6570\n",
      "print params[2].size()  # \u7b2c\u4e8c\u4e2a\u5377\u79ef\u5c42conv2\u7684\u6743\u91cd\u53c2\u6570\n",
      "print params[4].size()  # \u7b2c\u4e00\u4e2a\u5168\u94fe\u63a5\u5c42fc1\u7684\u6743\u91cd\u53c2\u6570"
     ],
     "language": "python",
     "metadata": {},
     "outputs": [
      {
       "output_type": "stream",
       "stream": "stdout",
       "text": [
        "10\n",
        "torch.Size([6, 1, 5, 5])\n",
        "torch.Size([6])\n",
        "torch.Size([16, 6, 5, 5])\n",
        "torch.Size([120, 400])\n"
       ]
      }
     ],
     "prompt_number": 82
    },
    {
     "cell_type": "code",
     "collapsed": false,
     "input": [
      "inputv = autograd.Variable(torch.randn(1,1,32,32))\n",
      "out = net(inputv) # \u4f1a\u81ea\u52a8\u6267\u884cforward\u51fd\u6570\uff1f \n",
      "out # \u5305\u542b\u4e8610\u4e2a\u8f93\u51fa"
     ],
     "language": "python",
     "metadata": {},
     "outputs": [
      {
       "metadata": {},
       "output_type": "pyout",
       "prompt_number": 83,
       "text": [
        "Variable containing:\n",
        " 0.0588  0.0400 -0.0440 -0.0981 -0.0392 -0.0607 -0.0007 -0.1363 -0.0259  0.0776\n",
        "[torch.FloatTensor of size 1x10]"
       ]
      }
     ],
     "prompt_number": 83
    },
    {
     "cell_type": "code",
     "collapsed": false,
     "input": [
      "net.zero_grad() # \u628a\u6240\u6709\u53c2\u6570\u7684\u68af\u5ea6\u7f13\u5b58\u90fd\u6e05\u96f6\n",
      "out.backward(torch.randn(1, 10)) # \u4f7f\u7528\u968f\u673a\u68af\u5ea6\u8fdb\u884c\u53cd\u4f20?"
     ],
     "language": "python",
     "metadata": {},
     "outputs": [],
     "prompt_number": 84
    },
    {
     "cell_type": "markdown",
     "metadata": {},
     "source": [
      "## \u4e0b\u9762\u662fnn\u7684\u635f\u5931\u51fd\u6570\u7c7b\n",
      "\n",
      "- L1Loss\u662fL1\u635f\u5931\n",
      "- MSELoss \u662fmean square error \u5e73\u65b9\u8bef\u5dee\n",
      "- crossEntropyLoss \u662f\u4ea4\u53c9\u4e0a\u8bef\u5dee\n",
      "- HingeEmbeddingLoss \n",
      "- SoftMarginLoss"
     ]
    },
    {
     "cell_type": "code",
     "collapsed": false,
     "input": [
      "outputv = net(inputv)\n",
      "target = Variable(torch.range(1,10))\n",
      "criterion = nn.MSELoss()\n",
      "loss = criterion(outputv, target)\n",
      "print loss\n",
      "print loss.creator\n",
      "print loss.creator.previous_functions[0][0]\n",
      "print loss.creator.previous_functions[0][0].previous_functions[0][0]\n",
      "print loss.creator.previous_functions[0][0].previous_functions[0][0].previous_functions[0][0].\\\n",
      "previous_functions[0][0].previous_functions[0][0].previous_functions[0][0]"
     ],
     "language": "python",
     "metadata": {},
     "outputs": [
      {
       "output_type": "stream",
       "stream": "stdout",
       "text": [
        "Variable containing:\n",
        " 38.8044\n",
        "[torch.FloatTensor of size 1]\n",
        "\n",
        "<torch.nn._functions.thnn.auto.MSELoss object at 0x7feaf5340438>\n",
        "<torch.nn._functions.linear.Linear object at 0x7feaf5340500>\n",
        "<torch.nn._functions.thnn.auto.Threshold object at 0x7feaf53405c8>\n",
        "<torch.autograd._functions.tensor.View object at 0x7feaf53408e8>\n"
       ]
      }
     ],
     "prompt_number": 88
    },
    {
     "cell_type": "markdown",
     "metadata": {},
     "source": [
      "\u5f53\u6211\u4eec\u4f7f\u7528loss.backward()\u540e\uff0c\u6574\u4e2a\u56fe\u90fd\u5dee\u5206\u8fc7\u4e86\uff0c\u6bcf\u4e2a\u53c2\u6570\u90fd\u66f4\u65b0\u4e86\u4e00\u4e0b\uff0c\u53ef\u4ee5\u7528.grad\u6210\u5458\u53d8\u91cf\u6765\u770b\u5230"
     ]
    },
    {
     "cell_type": "code",
     "collapsed": false,
     "input": [
      "net.zero_grad() # \u628a\u6240\u6709\u53c2\u6570\u7684\u68af\u5ea6\u7f13\u5b58\u90fd\u6e05\u96f6\n",
      "print 'before the backward'\n",
      "print net.conv1.bias.grad \n",
      "loss.backward()\n",
      "print 'after the backward'\n",
      "print net.conv1.bias.grad"
     ],
     "language": "python",
     "metadata": {},
     "outputs": [
      {
       "output_type": "stream",
       "stream": "stdout",
       "text": [
        "before the backward\n",
        "Variable containing:\n",
        " 0\n",
        " 0\n",
        " 0\n",
        " 0\n",
        " 0\n",
        " 0\n",
        "[torch.FloatTensor of size 6]\n",
        "\n",
        "after the backward\n",
        "Variable containing:\n",
        "-0.0593\n",
        "-0.1240\n",
        "-0.0464\n",
        " 0.0738\n",
        " 0.0484\n",
        " 0.1025\n",
        "[torch.FloatTensor of size 6]\n",
        "\n"
       ]
      }
     ],
     "prompt_number": 89
    },
    {
     "cell_type": "markdown",
     "metadata": {},
     "source": [
      "# torch.optim\n",
      "\n",
      "torch.optim\u5305\u5b9e\u73b0\u4e86\u5f88\u591a\u6700\u4f18\u5316\u7684\u65b9\u6cd5\uff0c\u6bd4\u5982SGD\uff0cADAM\u7b49\u3002\u6784\u9020\u4e00\u4e2aoptimizer\u9700\u8981\u5b9a\u4e49\u4e00\u4e9b\u53c2\u6570\uff0c\u6bd4\u5982\u8bf4\u5bf9\u90a3\u4e9b\u53c2\u6570\u8fdb\u884c\u6700\u4f18\u5316\uff0c\u6700\u4f18\u5316\u7684learning-rate\u662f\u4ec0\u4e48,momentum(\u52a8\u529b)\u662f\u591a\u5927(\u4e3a\u4e86\u907f\u514dSGD\u7ea0\u7ed3\u5728\u5168\u5c40\u6700\u4f18\u7684\u4f4d\u7f6e\u4e0a)\n",
      "\n",
      "\u4f7f\u7528optim\u7684step\u65b9\u6cd5\u53ef\u4ee5\u66f4\u65b0\u6240\u6709\u7684\u53c2\u6570\uff0c\u6709\u4e24\u79cd\u4f7f\u7528\u65b9\u6cd5\uff0c\u901a\u5e38\u4f7f\u7528\u7684\u60c5\u5f62\u662f\u7528\u5728loss.backward()\u4e4b\u540e\u3002"
     ]
    },
    {
     "cell_type": "code",
     "collapsed": false,
     "input": [
      "import torch.optim as optim\n",
      "\n",
      "optimizer = optim.SGD(net.parameters(), lr = 0.01)# \u6307\u5b9a\u4e86\u66f4\u65b0\u7684\u53c2\u6570\u548c\u5b66\u4e60\u6b65\u957f\n",
      "optimizer.zero_grad()\n",
      "outputv = net(inputv)\n",
      "loss = criterion(outputv, target)\n",
      "#print net.conv1.bias.grad\n",
      "print list(net.parameters())[1]\n",
      "loss.backward()\n",
      "#print net.conv1.bias.grad\n",
      "print list(net.parameters())[1]\n",
      "optimizer.step()\n",
      "print list(net.parameters())[1]\n",
      "#print net.conv1.bias.grad"
     ],
     "language": "python",
     "metadata": {},
     "outputs": [
      {
       "output_type": "stream",
       "stream": "stdout",
       "text": [
        "Parameter containing:\n",
        "-0.1430\n",
        " 0.0553\n",
        " 0.1524\n",
        "-0.1557\n",
        "-0.0774\n",
        " 0.1785\n",
        "[torch.FloatTensor of size 6]\n",
        "\n",
        "Parameter containing:\n",
        "-0.1430\n",
        " 0.0553\n",
        " 0.1524\n",
        "-0.1557\n",
        "-0.0774\n",
        " 0.1785\n",
        "[torch.FloatTensor of size 6]\n",
        "\n",
        "Parameter containing:\n",
        "-0.1349\n",
        " 0.0667\n",
        " 0.1689\n",
        "-0.1504\n",
        "-0.0677\n",
        " 0.1892\n",
        "[torch.FloatTensor of size 6]\n",
        "\n"
       ]
      }
     ],
     "prompt_number": 96
    },
    {
     "cell_type": "markdown",
     "metadata": {},
     "source": [
      "# torvision \n",
      "\n",
      "torch\u53ef\u4ee5\u5f88\u65b9\u4fbf\u7684\u628a\u4e00\u4e9b\u6570\u636e\u901a\u8fc7python\u8bfb\u6210numpy\uff0c\u7136\u540e\u518d\u8f6c\u6362\u6210tensor\n",
      "\n",
      "\u7279\u522b\u5730 torvision\u8fd9\u4e2a\u5305\u91cc\u5305\u542b\u4e86\u5f88\u591a\u56fe\u50cf\u5e93\u3002\u8fd9\u91cc\u6211\u4eec\u4f7f\u7528CIFAR10\n",
      "\n",
      "\u6211\u4eec\u5c06\u6309\u987a\u5e8f\u6267\u884c\u4ee5\u4e0b\u6b65\u9aa4\uff1a\n",
      "- \u4f7f\u7528torchvision\u52a0\u8f7d\u548c\u89c4\u8303\u5316CIFAR10\u8bad\u7ec3\u548c\u6d4b\u8bd5\u6570\u636e\u96c6\n",
      "- \u5b9a\u4e49\u5377\u79ef\u795e\u7ecf\u7f51\u7edc\n",
      "- \u5b9a\u4e49\u635f\u5931\u51fd\u6570\n",
      "- \u8bad\u7ec3\u7f51\u7edc\u8bad\u7ec3\u6570\u636e\n",
      "- \u6d4b\u8bd5\u7f51\u7edc\u4e0a\u7684\u6d4b\u8bd5\u6570\u636e\n",
      "\n",
      "## \u52a0\u8f7d\u548c\u89c4\u8303\u5316CIFAR10\n",
      "\n",
      "CIFAR10\u7684\u56fe\u50cf\u7684\u50cf\u7d20\u90fd\u662f32*32\u7684\n",
      "\n",
      "transforms.Compos([])\u53c2\u6570\u662ftransforms\u7ec4\u6210\u7684list,\u8868\u660e\u5bf9\u6570\u636e\u8fdb\u884c\u8fd9\u4e48\u4e00\u7cfb\u5217\u64cd\u4f5c \n",
      "\n",
      "transforms.ToTensor\uff0c\u8868\u793a\u628aPIL.Image\u6216\u8005np.ndarray(H xW xC )\u8303\u56f4\u5728[0,255]\u53d8\u6210\u4e00\u4e2a torch.FloatTensor\u8303\u56f4\u5728[0.0,1.0]\u7684\u5f62\u72b6\u4e3a(C x H x W)\n",
      "\n",
      "transforms.Normalize(mean,std) \u5bf9\u6570\u636e\u6bcf\u4e2a\u901a\u9053\u8fdb\u884c\u89c4\u8303\u5316.[-1,1]"
     ]
    },
    {
     "cell_type": "code",
     "collapsed": false,
     "input": [
      "import torchvision\n",
      "import torchvision.transforms as transforms\n",
      "import torch.utils.data as data\n",
      "transform = transforms.Compose([transforms.ToTensor(),\n",
      "                               transforms.Normalize((0.5,0.5,0.5),(0.5,0.5,0.5))])\n",
      "\n",
      "trainset    = torchvision.datasets.CIFAR10(root='./data', train=True, download=True,transform=transform)\n",
      "trainloader = data.DataLoader(trainset,batch_size = 4,shuffle = True,num_workers=2) # \u5c0f\u6279\u91cf\u6bcf\u6b214\u4e2a\u5730\u52a0\u8f7d\u6570\u636e\n",
      "\n",
      "testset     = torchvision.datasets.CIFAR10(root='./data', train=False, download=True,transform=transform)\n",
      "testloader  = data.DataLoader(testset,batch_size = 4, shuffle = False, num_workers=2)\n",
      "\n",
      "classes = ('plane', 'car', 'bird', 'cat', 'deer', 'dog', 'frog', 'horse', 'ship', 'truck')\n"
     ],
     "language": "python",
     "metadata": {},
     "outputs": [
      {
       "output_type": "stream",
       "stream": "stdout",
       "text": [
        "Files already downloaded and verified\n",
        "Files already downloaded and verified"
       ]
      },
      {
       "output_type": "stream",
       "stream": "stdout",
       "text": [
        "\n"
       ]
      }
     ],
     "prompt_number": 7
    },
    {
     "cell_type": "code",
     "collapsed": false,
     "input": [
      "import matplotlib.pyplot as plt\n",
      "import numpy as np\n",
      "%matplotlib inline\n",
      "def imshow(img):\n",
      "    img = img / 2 + 0.5 # \u9006\u89c4\u8303\u5316\n",
      "    npimg = img.numpy()\n",
      "    plt.imshow(np.transpose(npimg,(1,2,0)))"
     ],
     "language": "python",
     "metadata": {},
     "outputs": [],
     "prompt_number": 5
    },
    {
     "cell_type": "code",
     "collapsed": false,
     "input": [
      "dataiter = iter(trainloader)\n",
      "images, labels = dataiter.next() #\u53d6\u4e00\u6279\u6570\u636e\n",
      "# print images\n",
      "imshow(torchvision.utils.make_grid(images))\n",
      "# print labels\n",
      "print(' '.join('%5s'%classes[labels[j]] for j in range(4)))"
     ],
     "language": "python",
     "metadata": {},
     "outputs": [
      {
       "output_type": "stream",
       "stream": "stdout",
       "text": [
        " frog plane  deer   cat\n"
       ]
      },
      {
       "metadata": {},
       "output_type": "display_data",
       "png": "[encoded data removed]",
       "text": [
        "<matplotlib.figure.Figure at 0x7f16709fcd90>"
       ]
      }
     ],
     "prompt_number": 7
    },
    {
     "cell_type": "markdown",
     "metadata": {},
     "source": [
      "## \u5b9a\u4e49\u4e00\u4e2a\u5377\u79ef\u795e\u7ecf\u7f51\u7edc\n",
      "\n",
      "- \u7f51\u7edc\u8bbe\u8ba1\u5904\u7406\u56fe\u50cf\uff0c\u6240\u4ee5\u9700\u8981\u4e09\u4e2a\u901a\u9053"
     ]
    },
    {
     "cell_type": "code",
     "collapsed": false,
     "input": [
      "import torch.nn as nn\n",
      "import torch.nn.functional as F # F\u63d0\u4f9b\u4e86\u8bb8\u591a\u597d\u7528\u7684\u6df1\u5ea6\u5b66\u4e60\u7684\u5de5\u5177\n",
      "\n",
      "class Net(nn.Module):\n",
      "    def __init__(self):\n",
      "        super(Net, self).__init__()\n",
      "        self.conv1 = nn.Conv2d(3, 36, 5)  # RGB\u4e09\u4e2a\u901a\u9053\u5206\u522b\u901a\u8fc7\u4e0d\u540c\u7684\u8f93\u5165;\n",
      "        self.conv2 = nn.Conv2d(36,96,5)\n",
      "        self.fc1 = nn.Linear(96*5*5,2000) # \u53ef\u662f\u8fd9\u4e9b\u6570\u503c\u90fd\u662f\u600e\u4e48\u8bbe\u7f6e\u7684\u5462;5*5\u662f\u56e0\u4e3a\u6700\u540e\u90fd\u7f16\u7a0b\u4e86\u4e00\u4e2a\u884c\u5411\u91cf\n",
      "        self.fc2 = nn.Linear(2000,1200)\n",
      "        self.fc3 = nn.Linear(1200,800)\n",
      "        self.fc4 = nn.Linear(800,400)\n",
      "        self.fc5 = nn.Linear(400,100)\n",
      "        self.fc6 = nn.Linear(100,10)\n",
      "    def forward(self, x):\n",
      "        # \u4e0b\u9762\u4ee3\u7801\u7684\u610f\u601d\u662f\u6267\u884c\u5377\u79ef\u4e4b\u540e,relu\u6fc0\u6d3b\u4e00\u4e0b\u7136\u540e\u8fdb\u884c\u6c60\u5316\u3002\n",
      "        x = F.max_pool2d(F.relu(self.conv1(x)), (2,2))\n",
      "        x = F.max_pool2d(F.relu(self.conv2(x)), 2)\n",
      "        \n",
      "        # \u4e0b\u9762\u628a\u56fe\u7247\u8f6c\u5316\u4e3a\u884c\u5411\u91cf\uff1f\n",
      "        x = x.view(-1, self.num_flat_features(x))\n",
      "        \n",
      "        # \u4e0b\u9762\u662f\u5168\u8fde\u63a5\u5c42\n",
      "        x = F.relu(self.fc1(x))\n",
      "        x = F.relu(self.fc2(x))\n",
      "        x = F.relu(self.fc3(x))\n",
      "        x = F.relu(self.fc4(x))\n",
      "        x = F.relu(self.fc5(x))\n",
      "        x = self.fc6(x)\n",
      "        return x\n",
      "    \n",
      "    def num_flat_features(self, x):\n",
      "        size = x.size()[1:] # \u9009\u53d6\u9664\u4e86\u6837\u672c\u4e2a\u6570\u4e4b\u5916\u7684\u5176\u5b83\u5927\u5c0f\n",
      "        num_features = 1\n",
      "        for s in size:\n",
      "            num_features *= s\n",
      "        return num_features\n",
      "\n",
      "net = Net()\n",
      "net = net.cuda()"
     ],
     "language": "python",
     "metadata": {},
     "outputs": [],
     "prompt_number": 9
    },
    {
     "cell_type": "markdown",
     "metadata": {},
     "source": [
      "- \u5b9a\u4e49\u4e00\u4e2a\u635f\u5931\u51fd\u6570\u548c\u6700\u4f18\u5316\u5de5\u5177"
     ]
    },
    {
     "cell_type": "code",
     "collapsed": false,
     "input": [
      "import torch\n",
      "criterion = nn.CrossEntropyLoss()\n",
      "optimizer = torch.optim.SGD(net.parameters(), lr=0.001, momentum=0.9)"
     ],
     "language": "python",
     "metadata": {},
     "outputs": [],
     "prompt_number": 10
    },
    {
     "cell_type": "markdown",
     "metadata": {},
     "source": [
      "- \u8bad\u7ec3\u7f51\u7edc\n",
      "\n",
      "\u8bad\u7ec3\u65f6\u6211\u4eec\u53ea\u9700\u8981\u8fed\u4ee3\u5730\u83b7\u53d6\u5c0f\u6279\u91cf\u7684\u6570\u636e\uff0c\u5e76\u4e14\u628a\u8fd9\u4e9b\u6570\u636e\u8f93\u5165\u5230\u7f51\u7edc\u4e2d\u5e76\u8fdb\u884c\u6700\u4f18\u5316(feed the inputs to the network)\n",
      "\n",
      "\u4ece\u4e0b\u9762\u7684\u4f8b\u5b50\u53ef\u4ee5\u770b\u51faenumerate\u7684\u4f7f\u7528\u65b9\u6cd5\uff0c\u7b2c\u4e8c\u4e2a\u53c2\u6570\u6307\u5b9a\u7684\u662f\u5e8f\u53f7\u4ece\u54ea\u91cc\u5f00\u59cb"
     ]
    },
    {
     "cell_type": "code",
     "collapsed": false,
     "input": [
      "my_list = ['apple', 'banana', 'grapes', 'pear']\n",
      "counter_list = list(enumerate(my_list))\n",
      "print(counter_list)"
     ],
     "language": "python",
     "metadata": {},
     "outputs": [
      {
       "output_type": "stream",
       "stream": "stdout",
       "text": [
        "[(0, 'apple'), (1, 'banana'), (2, 'grapes'), (3, 'pear')]\n"
       ]
      }
     ],
     "prompt_number": 19
    },
    {
     "cell_type": "code",
     "collapsed": false,
     "input": [
      "#import torch.autograd.Variable as Variable\n",
      "from torch.autograd import Variable\n",
      "for epoch in range(2):\n",
      "    running_loss = 0.0\n",
      "    for i, data in enumerate(trainloader, 0):\n",
      "        # \u83b7\u5f97\u8f93\u5165,labels\u662f\u8f93\u51fa \uff1f\n",
      "        inputs, labels = data\n",
      "        \n",
      "        # \u628a\u5b83\u4eec\u5305\u88c5\u5230variable\u91cc\u9762\n",
      "        inputs, labels = Variable(inputs.cuda()), Variable(labels.cuda())\n",
      "        \n",
      "        # \u7528\u6700\u4f18\u5316\u5de5\u5177\u5bf9\u53c2\u6570\u7684\u68af\u5ea6\u521d\u59cb\u5316\u4e3a\u96f6\n",
      "        optimizer.zero_grad()\n",
      "        \n",
      "        # \u524d\u9988 \u53cd\u9988 \u6700\u4f18\u5316\n",
      "        outputs = net(inputs)\n",
      "        loss = criterion(outputs, labels)\n",
      "        loss.backward()\n",
      "        optimizer.step()\n",
      "        \n",
      "        # \u8f93\u51fa\u7edf\u8ba1\u7ed3\u679c \u56e0\u4e3aloss\u662fVariable\uff0c\u6240\u4ee5\u6709data\u6210\u5458\u53d8\u91cf\n",
      "        running_loss += loss.data[0]\n",
      "        if i % 2000 == 1999:\n",
      "            print '[%d, %5d] loss: %.3f' % (epoch+1, i+1, running_loss / 2000)\n",
      "            running_loss = 0.0 # \u8bf4\u660e\u4e00\u8f6e\u4e2d\u4e0d\u6b62\u67092000\u6279\u6b21 \u6bcf\u6279\u6b214\u4e2a\u56fe\u50cf\n",
      "print 'finished training'"
     ],
     "language": "python",
     "metadata": {},
     "outputs": [
      {
       "output_type": "stream",
       "stream": "stdout",
       "text": [
        "[1,  2000] loss: 2.303\n",
        "[1,  4000] loss: 2.302"
       ]
      },
      {
       "output_type": "stream",
       "stream": "stdout",
       "text": [
        "\n",
        "[1,  6000] loss: 2.267"
       ]
      },
      {
       "output_type": "stream",
       "stream": "stdout",
       "text": [
        "\n",
        "[1,  8000] loss: 1.979"
       ]
      },
      {
       "output_type": "stream",
       "stream": "stdout",
       "text": [
        "\n",
        "[1, 10000] loss: 1.798"
       ]
      },
      {
       "output_type": "stream",
       "stream": "stdout",
       "text": [
        "\n",
        "[1, 12000] loss: 1.669"
       ]
      },
      {
       "output_type": "stream",
       "stream": "stdout",
       "text": [
        "\n"
       ]
      },
      {
       "output_type": "stream",
       "stream": "stdout",
       "text": [
        "[2,  2000] loss: 1.555\n",
        "[2,  4000] loss: 1.459"
       ]
      },
      {
       "output_type": "stream",
       "stream": "stdout",
       "text": [
        "\n",
        "[2,  6000] loss: 1.370"
       ]
      },
      {
       "output_type": "stream",
       "stream": "stdout",
       "text": [
        "\n",
        "[2,  8000] loss: 1.325"
       ]
      },
      {
       "output_type": "stream",
       "stream": "stdout",
       "text": [
        "\n",
        "[2, 10000] loss: 1.265"
       ]
      },
      {
       "output_type": "stream",
       "stream": "stdout",
       "text": [
        "\n",
        "[2, 12000] loss: 1.240"
       ]
      },
      {
       "output_type": "stream",
       "stream": "stdout",
       "text": [
        "\n",
        "finished training"
       ]
      },
      {
       "output_type": "stream",
       "stream": "stdout",
       "text": [
        "\n"
       ]
      }
     ],
     "prompt_number": 11
    },
    {
     "cell_type": "markdown",
     "metadata": {},
     "source": [
      "\u4e0b\u9762\u6d4b\u8bd5\u4e00\u6279\u56fe\u50cf\u5171\u56db\u4e2a\u8bd5\u4e00\u8bd5\n",
      "\n",
      "max(data, 1) \u8868\u793a\u6309\u5217\u53d6\u6700\u5927\u503c"
     ]
    },
    {
     "cell_type": "code",
     "collapsed": false,
     "input": [
      "detaiter = iter(testloader)\n",
      "images, labels = detaiter.next()\n",
      "\n",
      "# \u8f93\u51fa\u56fe\u50cf\n",
      "imshow(torchvision.utils.make_grid(images)) # \u76f4\u63a5\u663e\u793a\u51fa\u6765\u597d\u51e0\u5f20\u56fe\u7247\uff0c\u6709\u70b9\u5389\u5bb3\n",
      "print('ground truth:',' '.join('%5s'%classes[labels[j]] for j in range(4)))\n",
      "outputs = net(Variable(images))\n",
      "enegy,predicted = torch.max(outputs.data, 1)\n",
      "print enegy,predicted\n",
      "print 'predicted:',' '.join('%5s'%classes[predicted[j][0]] for j in range(4))"
     ],
     "language": "python",
     "metadata": {},
     "outputs": [
      {
       "output_type": "stream",
       "stream": "stdout",
       "text": [
        "('ground truth:', '  cat  ship  ship plane')\n",
        "\n",
        " 0.1447\n",
        " 0.1436\n",
        " 0.1373\n",
        " 0.1422\n",
        "[torch.FloatTensor of size 4x1]\n",
        " \n",
        " 3\n",
        " 3\n",
        " 3\n",
        " 1\n",
        "[torch.LongTensor of size 4x1]\n",
        "\n",
        "predicted:   cat   cat   cat   car\n"
       ]
      },
      {
       "metadata": {},
       "output_type": "display_data",
       "png": "[encoded data removed]",
       "text": [
        "<matplotlib.figure.Figure at 0x7f167e83a050>"
       ]
      }
     ],
     "prompt_number": 53
    },
    {
     "cell_type": "markdown",
     "metadata": {},
     "source": [
      "\u53ef\u4ee5\u5728\u6d4b\u8bd5\u96c6\u4e0a\u68c0\u67e5\u6b63\u786e\u7387\u6709\u591a\u5927"
     ]
    },
    {
     "cell_type": "code",
     "collapsed": false,
     "input": [
      "correct = 0\n",
      "total = 0\n",
      "net = net.cpu()\n",
      "for data in testloader:\n",
      "    images, labels = data\n",
      "    outputs = net(Variable(images))\n",
      "    _,predicted = torch.max(outputs.data, 1)\n",
      "    total += predicted.size()[0]\n",
      "    correct += (predicted == labels).sum()\n",
      "\n",
      "print 'accuracy of the network on the 10000 test images: %d %%' % (100*correct/total)"
     ],
     "language": "python",
     "metadata": {},
     "outputs": [
      {
       "output_type": "stream",
       "stream": "stdout",
       "text": [
        "accuracy of the network on the 10000 test images: 57 %\n"
       ]
      }
     ],
     "prompt_number": 16
    },
    {
     "cell_type": "markdown",
     "metadata": {},
     "source": [
      "\u53ef\u4ee5\u901a\u8fc7\u4e0b\u9762\u7684\u65b9\u6cd5\u6765\u7edf\u8ba1\u5404\u4e2a\u7c7b\u7684\u6b63\u786e\u7387\u5206\u522b\u662f\u591a\u5c11\n",
      "\n",
      "squeeze\u65b9\u6cd5\u6539\u53d8\u5f62\u72b6 "
     ]
    },
    {
     "cell_type": "code",
     "collapsed": false,
     "input": [
      "class_correct = list(0. for i in range(10))\n",
      "class_total   = list(0. for i in range(10))\n",
      "\n",
      "for data in testloader:\n",
      "    images, labels = data\n",
      "    outputs = net(Variable(images))\n",
      "    _, predicted = torch.max(outputs.data, 1)\n",
      "    c = (predicted == labels).squeeze()\n",
      "    for i in range(4):\n",
      "        label = labels[i]\n",
      "        class_correct[label] += c[i]\n",
      "        class_total[label] += 1\n",
      "for i in range(10):\n",
      "    print classes[i],' accuracy is %.3f %%' % (class_correct[i]*100 / class_total[i] )"
     ],
     "language": "python",
     "metadata": {},
     "outputs": [
      {
       "output_type": "stream",
       "stream": "stdout",
       "text": [
        "plane  accuracy is 60.200 %\n",
        "car  accuracy is 75.200 %\n",
        "bird  accuracy is 37.700 %\n",
        "cat  accuracy is 28.400 %\n",
        "deer  accuracy is 46.100 %\n",
        "dog  accuracy is 47.100 %\n",
        "frog  accuracy is 82.700 %\n",
        "horse  accuracy is 61.000 %\n",
        "ship  accuracy is 69.600 %\n",
        "truck  accuracy is 54.300 %\n"
       ]
      }
     ],
     "prompt_number": 44
    },
    {
     "cell_type": "markdown",
     "metadata": {},
     "source": [
      "\u5c31\u50cf\u4f60\u5c06Tensor\u4f20\u8f93\u5230GPU\u4e0a\u4e00\u6837\uff0c\u4f60\u5c06\u795e\u7ecf\u7f51\u7edc\u4f20\u8f93\u5230GPU\u4e0a\u3002\n",
      "\n",
      "```\n",
      "net.cuda()\n",
      "inputs, labels = Variable(inputs.cuda()), Variable(labels.cuda())\n",
      "```\n",
      "\n"
     ]
    },
    {
     "cell_type": "code",
     "collapsed": false,
     "input": [],
     "language": "python",
     "metadata": {},
     "outputs": []
    }
   ],
   "metadata": {}
  }
 ]
}